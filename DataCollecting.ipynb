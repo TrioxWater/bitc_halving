{
 "cells": [
  {
   "cell_type": "markdown",
   "metadata": {},
   "source": [
    "# 数据搜集 Data Collection\n",
    "\n",
    "数据主要搜集自[blockchain.info](https://blockchain.info)。这个网站提供了比特币的交易数据，包括每个区块的交易数量，每个区块的交易费用，每个区块的交易数量等等。我们可以通过这个网站获取到比特币的交易数据。\n",
    "\n",
    "The data is primarily collected from blockchain.info. This website provides Bitcoin transaction data, including the number of transactions per block, the transaction fees per block, the number of transactions in each block, and more. We can obtain Bitcoin transaction data through this website."
   ]
  },
  {
   "cell_type": "code",
   "execution_count": null,
   "metadata": {},
   "outputs": [],
   "source": [
    "import requests\n",
    "import os\n",
    "URL = \"https://api.blockchain.info/charts/\"\n",
    "\n",
    "params = {\n",
    "    \"timespan\": \"all\",          # all time\n",
    "    \"sampled\": \"true\",          # sample the data\n",
    "    \"metadata\": \"false\",        # no metadata\n",
    "    \"daysAverageString\": \"1d\",  # average over 1 day\n",
    "    \"cors\": \"true\",             # allow cross-origin requests\n",
    "    \"format\": \"json\"            # return json\n",
    "}\n",
    "\n",
    "response = requests.get(URL, params=params)\n",
    "print(response.status_code)\n",
    "\n",
    "# write the response to a file\n",
    "with open(\"responce.json\", \"w\") as f:\n",
    "    f.write(response.text)\n",
    "    f.close()\n"
   ]
  }
 ],
 "metadata": {
  "kernelspec": {
   "display_name": "Python 3",
   "language": "python",
   "name": "python3"
  },
  "language_info": {
   "name": "python",
   "version": "3.9.19"
  }
 },
 "nbformat": 4,
 "nbformat_minor": 2
}
